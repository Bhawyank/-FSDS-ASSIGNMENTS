{
 "cells": [
  {
   "cell_type": "code",
   "execution_count": null,
   "id": "0981ea97",
   "metadata": {},
   "outputs": [],
   "source": [
    "1. In the below elements which of them are values or an expression? eg:- values can be integer or string and expressions will be mathematical operators.\n",
    "    \n",
    "    * :expression\n",
    "        \n",
    "'hello':value\n",
    "    \n",
    "-87.8:value\n",
    "    \n",
    "- : expression\n",
    "    \n",
    "/ :expression\n",
    "    \n",
    "    +:expression\n",
    "\n",
    "6 :value\n"
   ]
  },
  {
   "cell_type": "code",
   "execution_count": null,
   "id": "7693d4d5",
   "metadata": {},
   "outputs": [],
   "source": [
    "2. What is the difference between string and variable?\n",
    "\n",
    "A Variable is a store of information, and a String is a type of information you would store in a Variable. A String is usually words, enclosed with \"\"\n",
    "\n",
    "Eg\n",
    "String x =\"Hi I am Bhawna\"\n",
    "X is the Variable, and we declared it as a String, use the single = to assign the text to it."
   ]
  },
  {
   "cell_type": "code",
   "execution_count": null,
   "id": "56ed81cf",
   "metadata": {},
   "outputs": [],
   "source": [
    "3. Describe three different data types.\n",
    "\n",
    "\n",
    "Strings\t\"Hello!\", \"23.34\"\tText - anything between \" \" becomes string\n",
    "Integers\t5364\tWhole numbers\n",
    "Floats\t3.1415\tDecimal Numbers"
   ]
  },
  {
   "cell_type": "code",
   "execution_count": null,
   "id": "1749ceb5",
   "metadata": {},
   "outputs": [],
   "source": [
    "4. What is an expression made up of? What do all expressions do?\n",
    "\n",
    "An expression is a combination of values and operators. All expressions evaluate to a single value."
   ]
  },
  {
   "cell_type": "code",
   "execution_count": null,
   "id": "8828cf37",
   "metadata": {},
   "outputs": [],
   "source": [
    "5. This assignment statements, like spam = 10. What is the difference between an\n",
    "expression and a statement?\n",
    "\n",
    "An expression evaluates to a single value. A statement does not.\n"
   ]
  },
  {
   "cell_type": "code",
   "execution_count": null,
   "id": "f0d80170",
   "metadata": {},
   "outputs": [],
   "source": [
    "6. After running the following code, what does the variable bacon contain?\n",
    "bacon = 22\n",
    "bacon + 1\n",
    "\n",
    "The bacon variable is set to 20. The bacon + 1 expression does not reassign the value in bacon (that would need an assignment statement: bacon = bacon + 1)"
   ]
  },
  {
   "cell_type": "code",
   "execution_count": null,
   "id": "6e3c7316",
   "metadata": {},
   "outputs": [],
   "source": [
    " 7. What should the values of the following two terms be?\n",
    "    'spam'+ 'spamspam'\n",
    "    'spam'* 3\n",
    "\n",
    "    Both expressions evaluate to the string 'spamspamspam'\n",
    " "
   ]
  },
  {
   "cell_type": "code",
   "execution_count": null,
   "id": "bacb6acd",
   "metadata": {},
   "outputs": [],
   "source": [
    "8. Why is eggs a valid variable name while 100 is invalid?\n",
    "\n",
    "Variable names cannot begin with a number."
   ]
  },
  {
   "cell_type": "code",
   "execution_count": null,
   "id": "237c3829",
   "metadata": {},
   "outputs": [],
   "source": [
    "9. What three functions can be used to get the integer, floating-point number, or string\n",
    "version of a value?\n",
    "\n",
    "The int(), float(), and str() functions will evaluate to the integer, floating-point number,\n",
    "and string versions of the value passed to them."
   ]
  },
  {
   "cell_type": "code",
   "execution_count": null,
   "id": "d537f2f9",
   "metadata": {},
   "outputs": [],
   "source": [
    "10. Why does this expression cause an error? How can you fix it?\n",
    "'I have eaten ' + 99 + ' burritos.'\n",
    "\n",
    "The expression causes an error because 99 is an integer, and only strings can be concatenated to other strings with the + operator. \n",
    "The correct way is I have eaten ' + str(99) + ' burritos.'."
   ]
  }
 ],
 "metadata": {
  "kernelspec": {
   "display_name": "Python 3 (ipykernel)",
   "language": "python",
   "name": "python3"
  },
  "language_info": {
   "codemirror_mode": {
    "name": "ipython",
    "version": 3
   },
   "file_extension": ".py",
   "mimetype": "text/x-python",
   "name": "python",
   "nbconvert_exporter": "python",
   "pygments_lexer": "ipython3",
   "version": "3.9.13"
  }
 },
 "nbformat": 4,
 "nbformat_minor": 5
}
